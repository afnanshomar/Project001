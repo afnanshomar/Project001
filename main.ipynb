{
 "cells": [
  {
   "cell_type": "markdown",
   "metadata": {
    "id": "PD7vUXkHr9dl"
   },
   "source": [
    "Write a function called randomization that takes as input a positive integer n, and returns A, a random n x 1 Numpy array."
   ]
  },
  {
   "cell_type": "code",
   "execution_count": 3,
   "metadata": {
    "colab": {
     "base_uri": "https://localhost:8080/"
    },
    "id": "osFCNlgjrKY3",
    "outputId": "654f44ec-38e3-4608-ab37-fcc7760a4cb3"
   },
   "outputs": [
    {
     "name": "stdout",
     "output_type": "stream",
     "text": [
      "Enter the number of rows:3\n"
     ]
    }
   ],
   "source": [
    "import numpy as np\n",
    "n=int(input('Enter the number of rows:'))\n",
    "def randomization(n):\n",
    "\n",
    " return np.random.random([n,1])\n"
   ]
  },
  {
   "cell_type": "markdown",
   "metadata": {
    "id": "aCN3n5hRtGDF"
   },
   "source": [
    "<hr>"
   ]
  },
  {
   "cell_type": "markdown",
   "metadata": {
    "id": "ADzTQfjZsRy2"
   },
   "source": [
    "Write a function called operations that takes as input two positive integers h and w, makes two random matrices A and B, of size h x w, and returns A,B, and s, the sum of A and B."
   ]
  },
  {
   "cell_type": "code",
   "execution_count": 8,
   "metadata": {
    "id": "WIVvUdJDspUi"
   },
   "outputs": [],
   "source": [
    "import numpy as np\n",
    "def operations(h,w):\n",
    "  A=np.random.random([h,w])\n",
    "  B=np.random.random([h,w])\n",
    "  s=A+B\n",
    "  return A,B,s"
   ]
  },
  {
   "cell_type": "markdown",
   "metadata": {
    "id": "2IEsatqE-hp3"
   },
   "source": [
    "<hr>"
   ]
  },
  {
   "cell_type": "markdown",
   "metadata": {
    "id": "O4fs25U9--IO"
   },
   "source": [
    "Write a function called norm that takes as input two Numpy column arrays A and B, adds them, and returns s, the L2 norm of their sum."
   ]
  },
  {
   "cell_type": "code",
   "execution_count": 7,
   "metadata": {
    "id": "1-ghrif__BvO"
   },
   "outputs": [],
   "source": [
    "import numpy as np\n",
    "\n",
    "def norm(A,B):\n",
    "    s = A + B\n",
    "    return np.linalg.norm(s)  # Compute the L2 norm"
   ]
  },
  {
   "cell_type": "markdown",
   "metadata": {
    "id": "8kX4F6UHvpN1"
   },
   "source": [
    "<hr>"
   ]
  },
  {
   "cell_type": "markdown",
   "metadata": {
    "id": "Qeg-073jv2a0"
   },
   "source": [
    "**Neural Network**\n",
    "\n",
    "---\n",
    "\n",
    "\n",
    "Here, we will write a function neural_network, which will apply a neural network operation with 2 inputs and 1 output and a given weight matrix.\n",
    "Your function should take two arguments: inputs and weights, two NumPy arrays of shape ***(2,1)*** and should return a NumPy array of shape ***(1,1)*** , the output of the neural network. Do not forget the ***tanh***  activation.\n"
   ]
  },
  {
   "cell_type": "code",
   "execution_count": null,
   "metadata": {
    "id": "IvkbwBY1wdlN"
   },
   "outputs": [],
   "source": [
    "import numpy as np\n",
    "\n",
    "def neural_network(inputs, weights):\n",
    "\n",
    "  #inputs.T (To make the size 1*2 ,so we can multiply it with weights)\n",
    "  weighted_sum = np.dot(inputs.T, weights)\n",
    "\n",
    "  output = np.tanh(weighted_sum)\n",
    "\n",
    "  return output"
   ]
  },
  {
   "cell_type": "markdown",
   "metadata": {
    "id": "m-dGhVsb1uaF"
   },
   "source": [
    "\n",
    " **Vectorize function**\n",
    "\n",
    "\n",
    "---\n",
    "\n",
    "\n",
    "\n",
    "Let's start by writing a scalar function \\texttt{scalar\\_function}, which will apply the following operation with input \\( x \\) and \\( y \\):\n",
    "\n",
    "\n",
    "f(x, y) =\n",
    "\\begin{cases}\n",
    "x \\cdot y, & \\text{if } x \\leq y \\\\\n",
    "\\frac{x}{y}, & \\text{otherwise}\n",
    "\\end{cases}\n",
    "\n",
    "\n",
    "Note that \\( x \\) and \\( y \\) are scalars.\n",
    "\n"
   ]
  },
  {
   "cell_type": "code",
   "execution_count": 9,
   "metadata": {
    "id": "4qpYTe5z2qpp"
   },
   "outputs": [],
   "source": [
    "import numpy as np\n",
    "\n",
    "def scalar_function(x, y):\n",
    "\n",
    "\n",
    "    return x * y if x <= y else x / y\n"
   ]
  },
  {
   "cell_type": "markdown",
   "metadata": {
    "id": "q-nTwdaC29OO"
   },
   "source": [
    "<hr>"
   ]
  },
  {
   "cell_type": "markdown",
   "metadata": {
    "id": "dAmO3wMs3A1A"
   },
   "source": [
    "**Vector function**\n",
    "\n",
    "\n",
    "---\n",
    "scalar_function can only handle scalar input, we could use the function **np.vectorize()  turn it into a vectorized function. Note that the input argument of np.vectorize()** should be a scalar function, and the output of\n",
    "**np.vectorize()** is a new function that can handle vector input.\n",
    "\n",
    "Please write a vector function vector_function, which will apply the operation\n",
    "***f* (x,y)**  defined above element-wisely with input vectors with same dimension x and y.\n",
    "\n",
    "\n"
   ]
  },
  {
   "cell_type": "code",
   "execution_count": 10,
   "metadata": {
    "id": "tLUPZoEY4l9l"
   },
   "outputs": [],
   "source": [
    "import numpy as np\n",
    "\n",
    "def scalar_function(x, y):\n",
    "\n",
    "    return x * y if x <= y else x / y\n",
    "\n",
    "def vector_function(x, y):\n",
    "\n",
    "    vectorized_func = np.vectorize(scalar_function)\n",
    "    return vectorized_func(x, y)\n"
   ]
  },
  {
   "cell_type": "code",
   "execution_count": null,
   "metadata": {},
   "outputs": [],
   "source": []
  }
 ],
 "metadata": {
  "colab": {
   "provenance": []
  },
  "kernelspec": {
   "display_name": "Python [conda env:base] *",
   "language": "python",
   "name": "conda-base-py"
  },
  "language_info": {
   "codemirror_mode": {
    "name": "ipython",
    "version": 3
   },
   "file_extension": ".py",
   "mimetype": "text/x-python",
   "name": "python",
   "nbconvert_exporter": "python",
   "pygments_lexer": "ipython3",
   "version": "3.12.7"
  }
 },
 "nbformat": 4,
 "nbformat_minor": 4
}
